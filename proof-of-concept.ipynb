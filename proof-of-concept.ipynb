{
 "cells": [
  {
   "cell_type": "code",
   "execution_count": 1,
   "metadata": {},
   "outputs": [],
   "source": [
    "import matplotlib\n",
    "import numpy as np\n",
    "import pickle\n",
    "import tqdm\n",
    "from astropy.table import Table\n",
    "from matplotlib import (cm, pyplot as plt)\n",
    "\n",
    "from emulator import BNSWaveformEmulator\n",
    "from utils import strain_fitting_function_corrected\n",
    "\n",
    "%matplotlib inline"
   ]
  },
  {
   "cell_type": "code",
   "execution_count": 2,
   "metadata": {},
   "outputs": [],
   "source": [
    "# Load the data.\n",
    "with open(\"input_variables.pkl\", \"rb\") as fp:\n",
    "    data = pickle.load(fp)\n",
    "\n",
    "waveform_parameters, label_names, waveform_names, amplitudes, \\\n",
    "    maximum_amplitude, waveform_ivar, scaled_asd, bns_maxima, _, __, ___, \\\n",
    "    psd, frequencies = data\n",
    "    \n",
    "with open(\"pl_params.pkl\", \"rb\") as fp:\n",
    "    eos_descr, eos_parameters, eos_coeff = pickle.load(fp)\n",
    "\n",
    "waveform_parameters = Table.from_pandas(waveform_parameters)\n",
    "\n",
    "# NEED UNSCALED MASSES ARGH\n",
    "waveform_parameters[\"M1\"] = 1.375 * waveform_parameters[\"M1\"]\n",
    "\n",
    "# Need unscaled f2 values. Load from text.\n",
    "t2 = Table.read(\"10.1103_t2.txt\", format=\"ascii\")\n",
    "waveform_parameters[\"f2\"] = 1000 * np.array(\n",
    "    [t2[\"f_2\"][t2[\"model\"] == wn][0] for wn in waveform_names])\n",
    "\n",
    "\n",
    "# Even though we may not use them, calculate the tidal Love number \n",
    "# for equal mass binaries (eq 14 of 1604.00246)\n",
    "waveform_parameters[\"lambda\"] = (2.0/3.0) * waveform_parameters[\"Meank2\"] \\\n",
    "                              * waveform_parameters[\"MeanR\"]**5\n",
    "\n",
    "# Calculate dimensionless tidal deformability (p12 of 1604.00246).\n",
    "waveform_parameters[\"Lambda\"] = (waveform_parameters[\"lambda\"]/waveform_parameters[\"M1\"]**5)**(1.0/5)\n",
    "\n",
    "# 1/Lambda is something that scales as kappa, so it may be more useful than Lambda\n",
    "waveform_parameters[\"1/Lambda\"] = 1.0/waveform_parameters[\"Lambda\"]\n"
   ]
  },
  {
   "cell_type": "code",
   "execution_count": null,
   "metadata": {},
   "outputs": [],
   "source": []
  },
  {
   "cell_type": "code",
   "execution_count": 3,
   "metadata": {},
   "outputs": [],
   "source": [
    "# Build a hierarchical model using 1/Lambda as the parameter that describes the equation of state.\n",
    "\n",
    "model_kwds = dict(eos_parameter_name=\"Kappa_calc\")\n",
    "# ARC to PE: What should we be doing here?\n",
    "supply_s2_for_ff = True\n",
    "\n",
    "model = BNSWaveformEmulator(**model_kwds)"
   ]
  },
  {
   "cell_type": "code",
   "execution_count": 4,
   "metadata": {},
   "outputs": [
    {
     "name": "stderr",
     "output_type": "stream",
     "text": [
      "/home/acas0005/anaconda3/lib/python3.6/site-packages/pystan/misc.py:399: FutureWarning: Conversion of the second argument of issubdtype from `float` to `np.floating` is deprecated. In future, it will be treated as `np.float64 == np.dtype(float).type`.\n",
      "  elif np.issubdtype(np.asarray(v).dtype, float):\n"
     ]
    },
    {
     "data": {
      "image/png": "[encoded data removed]",
      "text/plain": [
       "<matplotlib.figure.Figure at 0x7f543d50c630>"
      ]
     },
     "metadata": {},
     "output_type": "display_data"
    }
   ],
   "source": [
    "# Fit the hierarchical parameters by power laws\n",
    "p_opt, data_dict = model._hierarchically_fit_waveform_parameters(waveform_parameters)\n",
    "# Make some \n",
    "eos_descriptions = [ea.split(\"-\")[0] for ea in waveform_names]\n",
    "unique_eos_descriptions = list(set([ea for ea in eos_descriptions]))\n",
    "waveform_eos_idx = np.array(\n",
    "    [unique_eos_descriptions.index(ea) for ea in eos_descriptions])\n",
    "\n",
    "\n",
    "x, y = (data_dict[\"M1\"], data_dict[\"y\"])\n",
    "\n",
    "N, D = data_dict[\"y\"].shape\n",
    "E = len(unique_eos_descriptions)\n",
    "design_matrix = np.vstack([waveform_parameters[model.eos_parameter_name], np.ones(N)])\n",
    "alpha = (p_opt[\"a\"].T @ design_matrix).T\n",
    "beta = (p_opt[\"b\"].T @ design_matrix).T\n",
    "\n",
    "cmap = cm.viridis\n",
    "\n",
    "for j, parameter_name in enumerate(model.hierarchical_parameter_names):\n",
    "\n",
    "    fig, ax = plt.subplots()\n",
    "\n",
    "    for unique_eos_idx in list(set(waveform_eos_idx)):\n",
    "\n",
    "        color = cmap(float(unique_eos_idx)/E)\n",
    "\n",
    "        match = waveform_eos_idx == unique_eos_idx\n",
    "\n",
    "        yi = alpha[match, j] * x[match]**beta[match, j]\n",
    "\n",
    "        ax.plot(x[match], yi, c=color, alpha=0.5)\n",
    "        ax.scatter(x[match], y[match, j], c=color, vmin=0, vmax=E)\n",
    "\n",
    "    ax.set_title(\"{} (hierarchical; tidal)\".format(parameter_name))\n"
   ]
  },
  {
   "cell_type": "code",
   "execution_count": 5,
   "metadata": {},
   "outputs": [
    {
     "name": "stderr",
     "output_type": "stream",
     "text": [
      "/home/acas0005/anaconda3/lib/python3.6/site-packages/pystan/misc.py:399: FutureWarning: Conversion of the second argument of issubdtype from `float` to `np.floating` is deprecated. In future, it will be treated as `np.float64 == np.dtype(float).type`.\n",
      "  elif np.issubdtype(np.asarray(v).dtype, float):\n"
     ]
    },
    {
     "data": {
      "text/plain": [
       "<emulator.BNSWaveformEmulator at 0x7f548044d908>"
      ]
     },
     "execution_count": 5,
     "metadata": {},
     "output_type": "execute_result"
    }
   ],
   "source": [
    "# OK now fit the waveforms.\n",
    "# Here we align the waveforms by the maximum power in the amplitude spectrum.\n",
    "model.fit(waveform_parameters, frequencies, amplitudes)"
   ]
  },
  {
   "cell_type": "code",
   "execution_count": 6,
   "metadata": {},
   "outputs": [
    {
     "name": "stderr",
     "output_type": "stream",
     "text": [
      "100%|██████████| 25/25 [00:00<00:00, 3491.06it/s]\n"
     ]
    }
   ],
   "source": [
    "# Make some predictions.\n",
    "predictions = model.predict(waveform_parameters[\"M1\"], waveform_parameters[model.eos_parameter_name])\n",
    "\n",
    "N, F = amplitudes.shape\n",
    "one_to_one_fitting_factors = np.zeros(N)\n",
    "for i in tqdm.tqdm(range(N)):\n",
    "    \n",
    "    # ARC to PE: Shouldn't we be giving model._p_opt_waveform[\"sigma\"]**2 (as s2) instead of 0 here?\n",
    "    one_to_one_fitting_factors[i] = strain_fitting_function_corrected(\n",
    "        amplitudes[i], predictions[i],\n",
    "        frequencies, psd,\n",
    "        model._p_opt_waveform[\"sigma\"]**2 if supply_s2_for_ff else 0)\n",
    "    "
   ]
  },
  {
   "cell_type": "code",
   "execution_count": 7,
   "metadata": {},
   "outputs": [
    {
     "data": {
      "text/plain": [
       "Text(0.5,0,'Fitting factors (one-to-one)')"
      ]
     },
     "execution_count": 7,
     "metadata": {},
     "output_type": "execute_result"
    },
    {
     "data": {
      "image/png": "[encoded data removed]",
      "text/plain": [
       "<matplotlib.figure.Figure at 0x7f543d4e8e48>"
      ]
     },
     "metadata": {},
     "output_type": "display_data"
    }
   ],
   "source": [
    "fig, ax = plt.subplots()\n",
    "ax.hist(one_to_one_fitting_factors)\n",
    "ax.set_xlabel(\"Fitting factors (one-to-one)\")"
   ]
  },
  {
   "cell_type": "code",
   "execution_count": 8,
   "metadata": {},
   "outputs": [
    {
     "name": "stderr",
     "output_type": "stream",
     "text": [
      "  0%|          | 0/25 [00:00<?, ?it/s]/home/acas0005/anaconda3/lib/python3.6/site-packages/pystan/misc.py:399: FutureWarning: Conversion of the second argument of issubdtype from `float` to `np.floating` is deprecated. In future, it will be treated as `np.float64 == np.dtype(float).type`.\n",
      "  elif np.issubdtype(np.asarray(v).dtype, float):\n",
      "100%|██████████| 25/25 [00:22<00:00,  1.13it/s]\n"
     ]
    }
   ],
   "source": [
    "# Perform LOOCV.\n",
    "loocv_fitting_factors = np.zeros(N)\n",
    "loocv_predictions = np.zeros((N, F))\n",
    "for i in tqdm.tqdm(range(N)):\n",
    "    \n",
    "    mask = np.ones(N, dtype=bool)\n",
    "    mask[i] = False\n",
    "    \n",
    "    loocv_model = BNSWaveformEmulator(**model_kwds)\n",
    "    loocv_model.fit(waveform_parameters[mask], frequencies, amplitudes[mask])\n",
    "    \n",
    "    # Just assume that we had perfect frequencies since we can marginalise it out later.\n",
    "    frequency_shift = frequencies[np.argmax(amplitudes[i])] - loocv_model._p_opt_f2[0]\n",
    "    \n",
    "    prediction = loocv_model.predict(waveform_parameters[\"M1\"][i],\n",
    "                                     waveform_parameters[model.eos_parameter_name][i],\n",
    "                                     frequency_shifts=[frequency_shift])\n",
    "    \n",
    "    # ARC to PE: Should we be giving s^2 instead of 0?\n",
    "    loocv_fitting_factors[i] = strain_fitting_function_corrected(\n",
    "        amplitudes[i], prediction, frequencies, psd,\n",
    "        loocv_model._p_opt_waveform[\"sigma\"]**2 if supply_s2_for_ff else 0)\n",
    "    \n",
    "    loocv_predictions[i] = prediction\n",
    "    "
   ]
  },
  {
   "cell_type": "code",
   "execution_count": 9,
   "metadata": {},
   "outputs": [
    {
     "data": {
      "text/plain": [
       "Text(0.5,0,'Fitting factors (LOOCV)')"
      ]
     },
     "execution_count": 9,
     "metadata": {},
     "output_type": "execute_result"
    },
    {
     "data": {
      "image/png": "[encoded data removed]",
      "text/plain": [
       "<matplotlib.figure.Figure at 0x7f543751a8d0>"
      ]
     },
     "metadata": {},
     "output_type": "display_data"
    }
   ],
   "source": [
    "fig, ax = plt.subplots()\n",
    "ax.hist(loocv_fitting_factors)\n",
    "ax.set_xlabel(\"Fitting factors (LOOCV)\")"
   ]
  },
  {
   "cell_type": "code",
   "execution_count": 10,
   "metadata": {},
   "outputs": [
    {
     "name": "stderr",
     "output_type": "stream",
     "text": [
      "  0%|          | 0/25 [00:00<?, ?it/s]/home/acas0005/anaconda3/lib/python3.6/site-packages/pystan/misc.py:399: FutureWarning: Conversion of the second argument of issubdtype from `float` to `np.floating` is deprecated. In future, it will be treated as `np.float64 == np.dtype(float).type`.\n",
      "  elif np.issubdtype(np.asarray(v).dtype, float):\n",
      "100%|██████████| 25/25 [00:25<00:00,  1.02s/it]\n"
     ]
    }
   ],
   "source": [
    "# Perform LOOCV and fit for the parameters at test time \n",
    "loocv_test_fitting_factors = np.zeros(N)\n",
    "loocv_waveform_parameters = np.zeros((N, 3), dtype=float)\n",
    "loocv_test_predictions = np.zeros((N, F))\n",
    "for i in tqdm.tqdm(range(N)):\n",
    "    \n",
    "    mask = np.ones(N, dtype=bool)\n",
    "    mask[i] = False\n",
    "    \n",
    "    loocv_model = BNSWaveformEmulator(**model_kwds)\n",
    "    loocv_model.fit(waveform_parameters[mask], frequencies, amplitudes[mask])\n",
    "    \n",
    "    initial = [\n",
    "        waveform_parameters[\"M1\"][i], \n",
    "        waveform_parameters[loocv_model.eos_parameter_name][i],\n",
    "        frequencies[np.argmax(amplitudes[i])] - loocv_model._p_opt_f2[0]\n",
    "    ]\n",
    "    \n",
    "    p_opt_M1, p_opt_eos_parameter, p_opt_frequency_shift = loocv_model.test(amplitudes[i],\n",
    "                                                                            psd,\n",
    "                                                                            supply_s2_for_ff=supply_s2_for_ff,\n",
    "                                                                            initial=initial)\n",
    "    \n",
    "    prediction = loocv_model.predict(p_opt_M1,\n",
    "                                     p_opt_eos_parameter,\n",
    "                                     frequency_shifts=[p_opt_frequency_shift - model._p_opt_f2[0]])\n",
    "    \n",
    "    loocv_test_predictions[i] = prediction\n",
    "    loocv_waveform_parameters[i] = [p_opt_M1, p_opt_eos_parameter, p_opt_frequency_shift]\n",
    "    loocv_test_fitting_factors[i] = strain_fitting_function_corrected(\n",
    "        amplitudes[i], loocv_test_predictions[i], frequencies, psd,\n",
    "        loocv_model._p_opt_waveform[\"sigma\"]**2 if supply_s2_for_ff else 0)\n",
    "    \n",
    "    #print(f\"LOOCV: {i} {loocv_test_fitting_factors[i]}\")\n",
    "\n"
   ]
  },
  {
   "cell_type": "code",
   "execution_count": 11,
   "metadata": {},
   "outputs": [
    {
     "data": {
      "text/plain": [
       "<matplotlib.legend.Legend at 0x7f5436bde2b0>"
      ]
     },
     "execution_count": 11,
     "metadata": {},
     "output_type": "execute_result"
    },
    {
     "data": {
      "image/png": "[encoded data removed]",
      "text/plain": [
       "<matplotlib.figure.Figure at 0x7f5436c6d6d8>"
      ]
     },
     "metadata": {},
     "output_type": "display_data"
    }
   ],
   "source": [
    "fig, ax = plt.subplots()\n",
    "ax.hist([loocv_test_fitting_factors, loocv_fitting_factors],\n",
    "        label=(\"Free params\", \"Fixed params\"))\n",
    "plt.legend()"
   ]
  },
  {
   "cell_type": "code",
   "execution_count": 12,
   "metadata": {},
   "outputs": [
    {
     "name": "stdout",
     "output_type": "stream",
     "text": [
      "0.9539102979876312 0.9529236822968318\n"
     ]
    }
   ],
   "source": [
    "print(np.median(loocv_test_fitting_factors), np.median(loocv_fitting_factors))"
   ]
  },
  {
   "cell_type": "code",
   "execution_count": 13,
   "metadata": {},
   "outputs": [
    {
     "data": {
      "text/plain": [
       "<matplotlib.collections.PathCollection at 0x7f5436b12080>"
      ]
     },
     "execution_count": 13,
     "metadata": {},
     "output_type": "execute_result"
    },
    {
     "data": {
      "image/png": "[encoded data removed]",
      "text/plain": [
       "<matplotlib.figure.Figure at 0x7f5436b83518>"
      ]
     },
     "metadata": {},
     "output_type": "display_data"
    }
   ],
   "source": [
    "fig, axes = plt.subplots(2)\n",
    "axes[0].scatter(waveform_parameters[\"M1\"], loocv_waveform_parameters.T[0])\n",
    "axes[1].scatter(waveform_parameters[loocv_model.eos_parameter_name], loocv_waveform_parameters.T[1])\n"
   ]
  },
  {
   "cell_type": "code",
   "execution_count": null,
   "metadata": {},
   "outputs": [],
   "source": []
  },
  {
   "cell_type": "code",
   "execution_count": null,
   "metadata": {},
   "outputs": [],
   "source": []
  },
  {
   "cell_type": "code",
   "execution_count": null,
   "metadata": {},
   "outputs": [],
   "source": []
  },
  {
   "cell_type": "code",
   "execution_count": null,
   "metadata": {
    "collapsed": true
   },
   "outputs": [],
   "source": []
  },
  {
   "cell_type": "code",
   "execution_count": null,
   "metadata": {
    "collapsed": true
   },
   "outputs": [],
   "source": []
  }
 ],
 "metadata": {
  "kernelspec": {
   "display_name": "Python 3",
   "language": "python",
   "name": "python3"
  },
  "language_info": {
   "codemirror_mode": {
    "name": "ipython",
    "version": 3
   },
   "file_extension": ".py",
   "mimetype": "text/x-python",
   "name": "python",
   "nbconvert_exporter": "python",
   "pygments_lexer": "ipython3",
   "version": "3.6.3"
  }
 },
 "nbformat": 4,
 "nbformat_minor": 2
}
